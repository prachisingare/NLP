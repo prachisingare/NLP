{
 "cells": [
  {
   "cell_type": "code",
   "execution_count": 1,
   "id": "f3320c8a",
   "metadata": {},
   "outputs": [],
   "source": [
    "import nltk\n",
    "from gensim.models import Word2Vec\n",
    "from nltk.corpus import stopwords\n",
    "import re"
   ]
  },
  {
   "cell_type": "code",
   "execution_count": 2,
   "id": "ba1a87a0",
   "metadata": {},
   "outputs": [
    {
     "name": "stderr",
     "output_type": "stream",
     "text": [
      "[nltk_data] Downloading package punkt to\n",
      "[nltk_data]     C:\\Users\\Prachi\\AppData\\Roaming\\nltk_data...\n",
      "[nltk_data]   Package punkt is already up-to-date!\n",
      "[nltk_data] Error loading stowords: Package 'stowords' not found in\n",
      "[nltk_data]     index\n"
     ]
    },
    {
     "data": {
      "text/plain": [
       "False"
      ]
     },
     "execution_count": 2,
     "metadata": {},
     "output_type": "execute_result"
    }
   ],
   "source": [
    "# Download required NLTK data\n",
    "nltk.download('punkt')\n",
    "nltk.download('stowords')"
   ]
  },
  {
   "cell_type": "code",
   "execution_count": 3,
   "id": "c4f08fd6",
   "metadata": {},
   "outputs": [],
   "source": [
    "# Sample paragraph\n",
    "paragraph = \"\"\"I have three visions for India. In 3000 years of our history, people from all over \n",
    "               the world have come and invaded us, captured our lands, conquered our minds. \n",
    "               From Alexander onwards, the Greeks, the Turks, the Moguls, the Portuguese, the British,\n",
    "               the French, the Dutch, all of them came and looted us, took over what was ours. \n",
    "               Yet we have not done this to any other nation. We have not conquered anyone. \n",
    "               We have not grabbed their land, their culture, \n",
    "               their history and tried to enforce our way of life on them. \n",
    "               Why? Because we respect the freedom of others.That is why my \n",
    "               first vision is that of freedom. I believe that India got its first vision of \n",
    "               this in 1857, when we started the War of Independence. It is this freedom that\n",
    "               we must protect and nurture and build on. If we are not free, no one will respect us.\n",
    "               My second vision for India’s development. For fifty years we have been a developing nation.\n",
    "               It is time we see ourselves as a developed nation. We are among the top 5 nations of the world\n",
    "               in terms of GDP. We have a 10 percent growth rate in most areas. Our poverty levels are falling.\n",
    "               Our achievements are being globally recognised today. Yet we lack the self-confidence to\n",
    "               see ourselves as a developed nation, self-reliant and self-assured. Isn’t this incorrect?\n",
    "               I have a third vision. India must stand up to the world. Because I believe that unless India \n",
    "               stands up to the world, no one will respect us. Only strength respects strength. We must be \n",
    "               strong not only as a military power but also as an economic power. Both must go hand-in-hand. \n",
    "               My good fortune was to have worked with three great minds. Dr. Vikram Sarabhai of the Dept. of \n",
    "               space, Professor Satish Dhawan, who succeeded him and Dr. Brahm Prakash, father of nuclear material.\n",
    "               I was lucky to have worked with all three of them closely and consider this the great opportunity of my life. \n",
    "               I see four milestones in my career\"\"\"\n"
   ]
  },
  {
   "cell_type": "code",
   "execution_count": null,
   "id": "f9c04b1b",
   "metadata": {},
   "outputs": [],
   "source": [
    "# 1.  Text Processing\n",
    "\n",
    "# Remove references like [0], numbers, extra spaces, and convert to lowercase\n",
    "\n",
    "text = re.sub(r'\\[[0-9]*\\]', ' ',paragraph)\n",
    "text = re.sub(r'\\d+', ' ', text)\n",
    "text = re.sub(r'\\s+', ' ', text)\n",
    "text = text.lower()\n"
   ]
  },
  {
   "cell_type": "code",
   "execution_count": 6,
   "id": "de22bb94",
   "metadata": {},
   "outputs": [],
   "source": [
    "# 2. Tokenize sntences and words\n",
    "\n",
    "sentences = nltk.sent_tokenize(text)\n",
    "sentences = [nltk.word_tokenize(sentence) for sentence in sentences]"
   ]
  },
  {
   "cell_type": "code",
   "execution_count": 8,
   "id": "747a08dc",
   "metadata": {},
   "outputs": [],
   "source": [
    "# 3. Remove stopwords\n",
    "\n",
    "stop_words = set(stopwords.words('english'))\n",
    "sentences = [[word for word in sentence if word not in stop_words]for sentence in sentences]"
   ]
  },
  {
   "cell_type": "code",
   "execution_count": 9,
   "id": "0921b493",
   "metadata": {},
   "outputs": [],
   "source": [
    "# 4. Train Word2Vec model\n",
    "model = Word2Vec(sentences, vector_size=50, window=5, min_count=1, sg=0)  # CBOW model\n"
   ]
  },
  {
   "cell_type": "code",
   "execution_count": 10,
   "id": "bb24fe35",
   "metadata": {},
   "outputs": [
    {
     "name": "stdout",
     "output_type": "stream",
     "text": [
      "Vocabulary: ['.', ',', 'india', 'vision', 'must', 'nation', 'world', 'us', 'three', 'freedom', 'respect', 'see', 'first', 'power', 'yet', '’', 'strength', 'worked', '?', 'life', 'believe', 'dr.', 'great', 'minds', 'one', 'years', 'history', 'developed', 'conquered', 'protect', 'others.that', 'war', 'nurture', 'independence', 'build', 'free', 'tried', 'got', 'started', 'way', 'enforce', 'took', 'culture', 'turks', 'visions', 'people', 'come', 'invaded', 'captured', 'lands', 'alexander', 'onwards', 'greeks', 'moguls', 'land', 'portuguese', 'british', 'french', 'dutch', 'came', 'looted', 'done', 'anyone', 'grabbed', 'second', 'career', 'development', 'respects', 'military', 'also', 'economic', 'go', 'hand-in-hand', 'good', 'fortune', 'vikram', 'sarabhai', 'dept', 'space', 'professor', 'satish', 'dhawan', 'succeeded', 'brahm', 'prakash', 'father', 'nuclear', 'material', 'lucky', 'closely', 'consider', 'opportunity', 'four', 'strong', 'stands', 'fifty', 'unless', 'developing', 'milestones', 'among', 'top', 'nations', 'terms', 'gdp', 'percent', 'growth', 'rate', 'areas', 'poverty', 'levels', 'falling', 'achievements', 'globally', 'recognised', 'today', 'lack', 'self-confidence', 'self-reliant', 'self-assured', 'incorrect', 'third', 'stand', 'time']\n"
     ]
    }
   ],
   "source": [
    "# Vocabulary\n",
    "words = list(model.wv.index_to_key)\n",
    "print(\"Vocabulary:\", words)"
   ]
  },
  {
   "cell_type": "code",
   "execution_count": 11,
   "id": "7a11d8e4",
   "metadata": {},
   "outputs": [
    {
     "name": "stdout",
     "output_type": "stream",
     "text": [
      "\n",
      " Vector for 'war' :  [-0.00978065 -0.00690728  0.01923655  0.01725148 -0.00566858  0.01164586\n",
      "  0.01647191 -0.00453169  0.01904637  0.01433656  0.00408364 -0.00770541\n",
      " -0.01015406 -0.00610379  0.01575632 -0.0123859  -0.00582114  0.01839848\n",
      "  0.00688913  0.01215673 -0.01607206 -0.00149068  0.01103521 -0.00942994\n",
      "  0.01495565  0.01864366 -0.00082786 -0.00410265 -0.00118437 -0.01159647\n",
      " -0.01677851 -0.00301489 -0.00510185  0.00877796 -0.01374607  0.01081633\n",
      " -0.01345921 -0.01565058  0.01693744  0.01784024 -0.00695732  0.00696011\n",
      " -0.01158755 -0.01749779 -0.01101401  0.01346174  0.01282469  0.0188568\n",
      "  0.01412244  0.01351768]\n"
     ]
    }
   ],
   "source": [
    "# 5. Word Vectors\n",
    "\n",
    "def get_vector(word):\n",
    "    if word in model.wv:\n",
    "        return model.wv[word]\n",
    "    \n",
    "    else:\n",
    "        return f\"'{word}' not in vocabulary\"\n",
    "    \n",
    "print(\"\\n Vector for 'war' : \", get_vector('war'))"
   ]
  },
  {
   "cell_type": "code",
   "execution_count": 12,
   "id": "572b76f0",
   "metadata": {},
   "outputs": [
    {
     "name": "stdout",
     "output_type": "stream",
     "text": [
      "\n",
      "Words similar to 'freedom': [('today', 0.31873607635498047), ('conquered', 0.26495233178138733), ('turks', 0.25523024797439575), ('culture', 0.234022319316864), ('space', 0.23212923109531403)]\n",
      "\n",
      "Words similar to 'vikram': [('power', 0.49135056138038635), ('anyone', 0.3282574713230133), ('closely', 0.31032201647758484), ('fortune', 0.2607274353504181), ('third', 0.23922289907932281)]\n",
      "\n",
      "Words similar to 'son': 'son' not in vocabulary\n"
     ]
    }
   ],
   "source": [
    "# 6. Most Similar words\n",
    "\n",
    "def most_similar_words(word, topn = 5):\n",
    "    if word in model.wv:\n",
    "        return model.wv.most_similar(word, topn=topn)\n",
    "    else:\n",
    "        return f\"'{word}' not in vocabulary\"\n",
    "\n",
    "print(\"\\nWords similar to 'freedom':\", most_similar_words('freedom'))\n",
    "print(\"\\nWords similar to 'vikram':\", most_similar_words('vikram'))\n",
    "print(\"\\nWords similar to 'son':\", most_similar_words('son')) \n"
   ]
  },
  {
   "cell_type": "code",
   "execution_count": null,
   "id": "4fa90378",
   "metadata": {},
   "outputs": [],
   "source": []
  }
 ],
 "metadata": {
  "kernelspec": {
   "display_name": "base",
   "language": "python",
   "name": "python3"
  },
  "language_info": {
   "codemirror_mode": {
    "name": "ipython",
    "version": 3
   },
   "file_extension": ".py",
   "mimetype": "text/x-python",
   "name": "python",
   "nbconvert_exporter": "python",
   "pygments_lexer": "ipython3",
   "version": "3.11.5"
  }
 },
 "nbformat": 4,
 "nbformat_minor": 5
}
